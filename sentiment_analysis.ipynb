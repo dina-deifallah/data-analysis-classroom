{
 "cells": [
  {
   "cell_type": "markdown",
   "id": "bc1b8a46",
   "metadata": {},
   "source": [
    "\n",
    "# Sentiment Analysis with VADER and TextBlob\n",
    "\n",
    "In this tutorial, we will perform **sentiment analysis** on Spotify app reviews using two different **pretrained models**:\n",
    "\n",
    "1. **VADER (Valence Aware Dictionary and sEntiment Reasoner)** - A lexicon-based sentiment analysis tool optimized for short text.\n",
    "2. **TextBlob** - A simple rule-based tool that provides polarity and subjectivity scores.\n",
    "\n",
    "We will compare their results to see how they classify positive, negative, and neutral sentiment in the reviews.\n"
   ]
  },
  {
   "cell_type": "markdown",
   "id": "0211fe2c",
   "metadata": {},
   "source": [
    "\n",
    "## Step 1: Load the Dataset\n",
    "\n",
    "First, we will load the dataset into a pandas DataFrame and inspect its structure.\n"
   ]
  },
  {
   "cell_type": "code",
   "execution_count": 2,
   "id": "d6c0465b",
   "metadata": {
    "tags": []
   },
   "outputs": [
    {
     "name": "stdout",
     "output_type": "stream",
     "text": [
      "Dataset contains 61594 reviews.\n"
     ]
    },
    {
     "data": {
      "text/html": [
       "<div>\n",
       "<style scoped>\n",
       "    .dataframe tbody tr th:only-of-type {\n",
       "        vertical-align: middle;\n",
       "    }\n",
       "\n",
       "    .dataframe tbody tr th {\n",
       "        vertical-align: top;\n",
       "    }\n",
       "\n",
       "    .dataframe thead th {\n",
       "        text-align: right;\n",
       "    }\n",
       "</style>\n",
       "<table border=\"1\" class=\"dataframe\">\n",
       "  <thead>\n",
       "    <tr style=\"text-align: right;\">\n",
       "      <th></th>\n",
       "      <th>time_submitted</th>\n",
       "      <th>review</th>\n",
       "      <th>rating</th>\n",
       "      <th>total_thumbsup</th>\n",
       "      <th>reply</th>\n",
       "      <th>review_length</th>\n",
       "      <th>cleaned_review</th>\n",
       "      <th>cleaned_review_length</th>\n",
       "    </tr>\n",
       "  </thead>\n",
       "  <tbody>\n",
       "    <tr>\n",
       "      <th>0</th>\n",
       "      <td>2022-01-01 00:19:09</td>\n",
       "      <td>Its good but sometimes it doesnt load the musi...</td>\n",
       "      <td>4</td>\n",
       "      <td>0</td>\n",
       "      <td>NaN</td>\n",
       "      <td>216</td>\n",
       "      <td>good sometimes doesnt load music play like sec...</td>\n",
       "      <td>115</td>\n",
       "    </tr>\n",
       "    <tr>\n",
       "      <th>1</th>\n",
       "      <td>2022-01-01 00:49:23</td>\n",
       "      <td>The app is good hard to navigate and won't jus...</td>\n",
       "      <td>2</td>\n",
       "      <td>1</td>\n",
       "      <td>NaN</td>\n",
       "      <td>272</td>\n",
       "      <td>app good hard navigate wont let play song clic...</td>\n",
       "      <td>142</td>\n",
       "    </tr>\n",
       "    <tr>\n",
       "      <th>2</th>\n",
       "      <td>2022-01-01 01:02:29</td>\n",
       "      <td>This app would be good if not for it taking ov...</td>\n",
       "      <td>2</td>\n",
       "      <td>10</td>\n",
       "      <td>NaN</td>\n",
       "      <td>493</td>\n",
       "      <td>app would good taking device start comp there ...</td>\n",
       "      <td>296</td>\n",
       "    </tr>\n",
       "    <tr>\n",
       "      <th>3</th>\n",
       "      <td>2022-01-01 02:13:40</td>\n",
       "      <td>Use to be sooo good back when I had it, and wh...</td>\n",
       "      <td>1</td>\n",
       "      <td>0</td>\n",
       "      <td>NaN</td>\n",
       "      <td>263</td>\n",
       "      <td>use sooo good back downloaded free version cou...</td>\n",
       "      <td>168</td>\n",
       "    </tr>\n",
       "    <tr>\n",
       "      <th>4</th>\n",
       "      <td>2022-01-01 03:01:29</td>\n",
       "      <td>Even though it was communicated that lyrics fe...</td>\n",
       "      <td>1</td>\n",
       "      <td>6</td>\n",
       "      <td>NaN</td>\n",
       "      <td>279</td>\n",
       "      <td>even though communicated lyric feature availab...</td>\n",
       "      <td>179</td>\n",
       "    </tr>\n",
       "  </tbody>\n",
       "</table>\n",
       "</div>"
      ],
      "text/plain": [
       "       time_submitted                                             review  \\\n",
       "0 2022-01-01 00:19:09  Its good but sometimes it doesnt load the musi...   \n",
       "1 2022-01-01 00:49:23  The app is good hard to navigate and won't jus...   \n",
       "2 2022-01-01 01:02:29  This app would be good if not for it taking ov...   \n",
       "3 2022-01-01 02:13:40  Use to be sooo good back when I had it, and wh...   \n",
       "4 2022-01-01 03:01:29  Even though it was communicated that lyrics fe...   \n",
       "\n",
       "   rating  total_thumbsup reply  review_length  \\\n",
       "0       4               0   NaN            216   \n",
       "1       2               1   NaN            272   \n",
       "2       2              10   NaN            493   \n",
       "3       1               0   NaN            263   \n",
       "4       1               6   NaN            279   \n",
       "\n",
       "                                      cleaned_review  cleaned_review_length  \n",
       "0  good sometimes doesnt load music play like sec...                    115  \n",
       "1  app good hard navigate wont let play song clic...                    142  \n",
       "2  app would good taking device start comp there ...                    296  \n",
       "3  use sooo good back downloaded free version cou...                    168  \n",
       "4  even though communicated lyric feature availab...                    179  "
      ]
     },
     "execution_count": 2,
     "metadata": {},
     "output_type": "execute_result"
    }
   ],
   "source": [
    "\n",
    "import pandas as pd\n",
    "\n",
    "# Load the dataset\n",
    "df = pd.read_csv('spotify_reviews_cleaned.csv', parse_dates=['time_submitted'])  # Replace with your cleaned file path\n",
    "print(f\"Dataset contains {len(df)} reviews.\")\n",
    "df.head()\n"
   ]
  },
  {
   "cell_type": "markdown",
   "id": "a8bb259c",
   "metadata": {},
   "source": [
    "\n",
    "## Step 2: Sentiment Analysis with VADER\n",
    "\n",
    "[VADER](https://github.com/cjhutto/vaderSentiment) is a lexicon-based sentiment analysis tool designed for **short text**, such as social media posts and reviews.\n",
    "It assigns a **compound score** between -1 and 1 to determine sentiment polarity.\n",
    "\n",
    "### **How to interpret VADER scores?**\n",
    "- **Positive sentiment**: Compound score > 0.05\n",
    "- **Negative sentiment**: Compound score < -0.05\n",
    "- **Neutral sentiment**: Compound score between -0.05 and 0.05\n"
   ]
  },
  {
   "cell_type": "code",
   "execution_count": 4,
   "id": "cb77ae51",
   "metadata": {
    "tags": []
   },
   "outputs": [
    {
     "name": "stderr",
     "output_type": "stream",
     "text": [
      "[nltk_data] Downloading package vader_lexicon to\n",
      "[nltk_data]     /Users/dina.deifallah/nltk_data...\n"
     ]
    }
   ],
   "source": [
    "\n",
    "from nltk.sentiment import SentimentIntensityAnalyzer\n",
    "import nltk\n",
    "\n",
    "# Download VADER Lexicon\n",
    "nltk.download('vader_lexicon')\n",
    "\n",
    "# Initialize Sentiment Analyzer\n",
    "sia = SentimentIntensityAnalyzer()\n"
   ]
  },
  {
   "cell_type": "code",
   "execution_count": 5,
   "id": "61f10f55-054c-4daa-bc98-d966a964ba87",
   "metadata": {
    "tags": []
   },
   "outputs": [
    {
     "name": "stdout",
     "output_type": "stream",
     "text": [
      "['__class__', '__delattr__', '__dict__', '__dir__', '__doc__', '__eq__', '__format__', '__ge__', '__getattribute__', '__getstate__', '__gt__', '__hash__', '__init__', '__init_subclass__', '__le__', '__lt__', '__module__', '__ne__', '__new__', '__reduce__', '__reduce_ex__', '__repr__', '__setattr__', '__sizeof__', '__str__', '__subclasshook__', '__weakref__', '_amplify_ep', '_amplify_qm', '_but_check', '_idioms_check', '_least_check', '_never_check', '_punctuation_emphasis', '_sift_sentiment_scores', 'constants', 'lexicon', 'lexicon_file', 'make_lex_dict', 'polarity_scores', 'score_valence', 'sentiment_valence']\n"
     ]
    }
   ],
   "source": [
    "# check the SentimentIntensityAnalyzer methods\n",
    "\n",
    "print(dir(sia))"
   ]
  },
  {
   "cell_type": "code",
   "execution_count": 7,
   "id": "53cbc7f1-cd62-45f2-b76c-e0c870a4db60",
   "metadata": {
    "tags": []
   },
   "outputs": [
    {
     "name": "stdout",
     "output_type": "stream",
     "text": [
      "mostly original soundtrack giving wonderful listening experience track arent original soundtrack one autovolume missing track arent upto mark equaliser provision also better feature\n"
     ]
    }
   ],
   "source": [
    "sample_review = df['cleaned_review'][20]\n",
    "\n",
    "print(sample_review)"
   ]
  },
  {
   "cell_type": "code",
   "execution_count": 8,
   "id": "f9262ac5-fbdd-4825-84c1-8a25c8a0ebda",
   "metadata": {
    "tags": []
   },
   "outputs": [
    {
     "data": {
      "text/plain": [
       "{'neg': 0.067, 'neu': 0.518, 'pos': 0.415, 'compound': 0.886}"
      ]
     },
     "execution_count": 8,
     "metadata": {},
     "output_type": "execute_result"
    }
   ],
   "source": [
    "sia.polarity_scores(sample_review)"
   ]
  },
  {
   "cell_type": "code",
   "execution_count": 13,
   "id": "83eee841-24be-42ba-985b-1d1601cd3878",
   "metadata": {
    "tags": []
   },
   "outputs": [
    {
     "data": {
      "text/html": [
       "<div>\n",
       "<style scoped>\n",
       "    .dataframe tbody tr th:only-of-type {\n",
       "        vertical-align: middle;\n",
       "    }\n",
       "\n",
       "    .dataframe tbody tr th {\n",
       "        vertical-align: top;\n",
       "    }\n",
       "\n",
       "    .dataframe thead th {\n",
       "        text-align: right;\n",
       "    }\n",
       "</style>\n",
       "<table border=\"1\" class=\"dataframe\">\n",
       "  <thead>\n",
       "    <tr style=\"text-align: right;\">\n",
       "      <th></th>\n",
       "      <th>cleaned_review</th>\n",
       "      <th>vader_score</th>\n",
       "      <th>vader_label</th>\n",
       "    </tr>\n",
       "  </thead>\n",
       "  <tbody>\n",
       "    <tr>\n",
       "      <th>0</th>\n",
       "      <td>good sometimes doesnt load music play like sec...</td>\n",
       "      <td>0.7402</td>\n",
       "      <td>positive</td>\n",
       "    </tr>\n",
       "    <tr>\n",
       "      <th>1</th>\n",
       "      <td>app good hard navigate wont let play song clic...</td>\n",
       "      <td>-0.3834</td>\n",
       "      <td>negative</td>\n",
       "    </tr>\n",
       "    <tr>\n",
       "      <th>2</th>\n",
       "      <td>app would good taking device start comp there ...</td>\n",
       "      <td>-0.7854</td>\n",
       "      <td>negative</td>\n",
       "    </tr>\n",
       "    <tr>\n",
       "      <th>3</th>\n",
       "      <td>use sooo good back downloaded free version cou...</td>\n",
       "      <td>0.8654</td>\n",
       "      <td>positive</td>\n",
       "    </tr>\n",
       "    <tr>\n",
       "      <th>4</th>\n",
       "      <td>even though communicated lyric feature availab...</td>\n",
       "      <td>0.5831</td>\n",
       "      <td>positive</td>\n",
       "    </tr>\n",
       "  </tbody>\n",
       "</table>\n",
       "</div>"
      ],
      "text/plain": [
       "                                      cleaned_review  vader_score vader_label\n",
       "0  good sometimes doesnt load music play like sec...       0.7402    positive\n",
       "1  app good hard navigate wont let play song clic...      -0.3834    negative\n",
       "2  app would good taking device start comp there ...      -0.7854    negative\n",
       "3  use sooo good back downloaded free version cou...       0.8654    positive\n",
       "4  even though communicated lyric feature availab...       0.5831    positive"
      ]
     },
     "execution_count": 13,
     "metadata": {},
     "output_type": "execute_result"
    }
   ],
   "source": [
    "\n",
    "# Function to compute VADER sentiment score\n",
    "def compute_vader_score(text):\n",
    "    \"\"\"Returns the VADER sentiment score for a given text.\"\"\"\n",
    "    return sia.polarity_scores(text)['compound']\n",
    "\n",
    "# Function to assign sentiment label based on score\n",
    "def assign_vader_label(score):\n",
    "    \"\"\"Assigns sentiment label based on VADER score.\"\"\"\n",
    "    if score > 0.05:\n",
    "        return 'positive'\n",
    "    elif score < -0.05:\n",
    "        return 'negative'\n",
    "    else:\n",
    "        return 'neutral'\n",
    "\n",
    "\n",
    "# Apply sentiment score computation\n",
    "df['vader_score'] = df['cleaned_review'].apply(compute_vader_score)\n",
    "\n",
    "# Apply sentiment classification\n",
    "df['vader_label'] = df['vader_score'].apply(assign_vader_label)\n",
    "\n",
    "# Display results\n",
    "df[['cleaned_review', 'vader_score', 'vader_label']].head()"
   ]
  },
  {
   "cell_type": "markdown",
   "id": "db0415f0",
   "metadata": {},
   "source": [
    "\n",
    "## Step 3: Sentiment Analysis with TextBlob\n",
    "\n",
    "[TextBlob](https://textblob.readthedocs.io/en/dev/quickstart.html#sentiment-analysis) provides **polarity scores** between -1 and 1 to indicate sentiment.\n",
    "Unlike VADER, TextBlob also provides a **subjectivity score** between 0 and 1.\n",
    "\n",
    "### **How to interpret TextBlob scores?**\n",
    "- **Positive sentiment**: Polarity > 0\n",
    "- **Negative sentiment**: Polarity < 0\n",
    "- **Neutral sentiment**: Polarity = 0\n"
   ]
  },
  {
   "cell_type": "markdown",
   "id": "e6785e4c-1fd6-42f7-90fa-6d62418a57a0",
   "metadata": {
    "tags": []
   },
   "source": [
    "### How Does it Work?\n",
    "\n",
    "\n",
    "**Lexicon-Based Approach:**\n",
    "\n",
    " - TextBlob uses a predefined sentiment dictionary (from PatternAnalyzer).\n",
    " - Each word in the text is assigned a polarity score (e.g., great = 0.8, terrible = -0.9).\n",
    " - If a word modifier (e.g., very, not) is present, it adjusts the score accordingly.\n",
    " - The final polarity is an average of all word scores.\n",
    " - Handling Negation: words like \"not good\" reduce polarity (good might have 0.7, but not decreases it).\n",
    " - Sentence-Level Aggregation: if multiple sentences exist, TextBlob averages the polarity across all of them.\n"
   ]
  },
  {
   "cell_type": "code",
   "execution_count": 11,
   "id": "d96984c9-d26d-4a19-8b33-b7d826bc2427",
   "metadata": {
    "tags": []
   },
   "outputs": [
    {
     "name": "stdout",
     "output_type": "stream",
     "text": [
      "Collecting textblob\n",
      "  Obtaining dependency information for textblob from https://files.pythonhosted.org/packages/1e/d6/40aa5aead775582ea0cf35870e5a3f16fab4b967f1ad2debe675f673f923/textblob-0.19.0-py3-none-any.whl.metadata\n",
      "  Downloading textblob-0.19.0-py3-none-any.whl.metadata (4.4 kB)\n",
      "Collecting nltk>=3.9 (from textblob)\n",
      "  Obtaining dependency information for nltk>=3.9 from https://files.pythonhosted.org/packages/4d/66/7d9e26593edda06e8cb531874633f7c2372279c3b0f46235539fe546df8b/nltk-3.9.1-py3-none-any.whl.metadata\n",
      "  Downloading nltk-3.9.1-py3-none-any.whl.metadata (2.9 kB)\n",
      "Requirement already satisfied: click in /Users/dina.deifallah/anaconda3/lib/python3.11/site-packages (from nltk>=3.9->textblob) (8.0.4)\n",
      "Requirement already satisfied: joblib in /Users/dina.deifallah/anaconda3/lib/python3.11/site-packages (from nltk>=3.9->textblob) (1.1.1)\n",
      "Requirement already satisfied: regex>=2021.8.3 in /Users/dina.deifallah/anaconda3/lib/python3.11/site-packages (from nltk>=3.9->textblob) (2022.7.9)\n",
      "Requirement already satisfied: tqdm in /Users/dina.deifallah/anaconda3/lib/python3.11/site-packages (from nltk>=3.9->textblob) (4.65.0)\n",
      "Downloading textblob-0.19.0-py3-none-any.whl (624 kB)\n",
      "\u001b[2K   \u001b[90m━━━━━━━━━━━━━━━━━━━━━━━━━━━━━━━━━━━━━━━━\u001b[0m \u001b[32m624.3/624.3 kB\u001b[0m \u001b[31m5.9 MB/s\u001b[0m eta \u001b[36m0:00:00\u001b[0ma \u001b[36m0:00:01\u001b[0m\n",
      "\u001b[?25hDownloading nltk-3.9.1-py3-none-any.whl (1.5 MB)\n",
      "\u001b[2K   \u001b[90m━━━━━━━━━━━━━━━━━━━━━━━━━━━━━━━━━━━━━━━━\u001b[0m \u001b[32m1.5/1.5 MB\u001b[0m \u001b[31m20.7 MB/s\u001b[0m eta \u001b[36m0:00:00\u001b[0ma \u001b[36m0:00:01\u001b[0m\n",
      "\u001b[?25hInstalling collected packages: nltk, textblob\n",
      "  Attempting uninstall: nltk\n",
      "    Found existing installation: nltk 3.8.1\n",
      "    Uninstalling nltk-3.8.1:\n",
      "      Successfully uninstalled nltk-3.8.1\n",
      "Successfully installed nltk-3.9.1 textblob-0.19.0\n"
     ]
    }
   ],
   "source": [
    "!pip install textblob\n",
    "from textblob import TextBlob"
   ]
  },
  {
   "cell_type": "code",
   "execution_count": 14,
   "id": "3837f4b2",
   "metadata": {
    "tags": []
   },
   "outputs": [
    {
     "data": {
      "text/html": [
       "<div>\n",
       "<style scoped>\n",
       "    .dataframe tbody tr th:only-of-type {\n",
       "        vertical-align: middle;\n",
       "    }\n",
       "\n",
       "    .dataframe tbody tr th {\n",
       "        vertical-align: top;\n",
       "    }\n",
       "\n",
       "    .dataframe thead th {\n",
       "        text-align: right;\n",
       "    }\n",
       "</style>\n",
       "<table border=\"1\" class=\"dataframe\">\n",
       "  <thead>\n",
       "    <tr style=\"text-align: right;\">\n",
       "      <th></th>\n",
       "      <th>cleaned_review</th>\n",
       "      <th>textblob_score</th>\n",
       "      <th>textblob_label</th>\n",
       "    </tr>\n",
       "  </thead>\n",
       "  <tbody>\n",
       "    <tr>\n",
       "      <th>0</th>\n",
       "      <td>good sometimes doesnt load music play like sec...</td>\n",
       "      <td>0.500000</td>\n",
       "      <td>positive</td>\n",
       "    </tr>\n",
       "    <tr>\n",
       "      <th>1</th>\n",
       "      <td>app good hard navigate wont let play song clic...</td>\n",
       "      <td>0.302778</td>\n",
       "      <td>positive</td>\n",
       "    </tr>\n",
       "    <tr>\n",
       "      <th>2</th>\n",
       "      <td>app would good taking device start comp there ...</td>\n",
       "      <td>-0.117708</td>\n",
       "      <td>negative</td>\n",
       "    </tr>\n",
       "    <tr>\n",
       "      <th>3</th>\n",
       "      <td>use sooo good back downloaded free version cou...</td>\n",
       "      <td>0.400000</td>\n",
       "      <td>positive</td>\n",
       "    </tr>\n",
       "    <tr>\n",
       "      <th>4</th>\n",
       "      <td>even though communicated lyric feature availab...</td>\n",
       "      <td>0.162500</td>\n",
       "      <td>positive</td>\n",
       "    </tr>\n",
       "  </tbody>\n",
       "</table>\n",
       "</div>"
      ],
      "text/plain": [
       "                                      cleaned_review  textblob_score  \\\n",
       "0  good sometimes doesnt load music play like sec...        0.500000   \n",
       "1  app good hard navigate wont let play song clic...        0.302778   \n",
       "2  app would good taking device start comp there ...       -0.117708   \n",
       "3  use sooo good back downloaded free version cou...        0.400000   \n",
       "4  even though communicated lyric feature availab...        0.162500   \n",
       "\n",
       "  textblob_label  \n",
       "0       positive  \n",
       "1       positive  \n",
       "2       negative  \n",
       "3       positive  \n",
       "4       positive  "
      ]
     },
     "execution_count": 14,
     "metadata": {},
     "output_type": "execute_result"
    }
   ],
   "source": [
    "\n",
    "\n",
    "# Function to get sentiment polarity\n",
    "def get_sentiment(text):\n",
    "    return TextBlob(text).sentiment.polarity\n",
    "\n",
    "# Function to assign sentiment label based on TextBlob score\n",
    "def assign_textblob_label(score):\n",
    "    \"\"\"Assigns sentiment label based on TextBlob polarity score.\"\"\"\n",
    "    if score > 0:\n",
    "        return 'positive'\n",
    "    elif score < 0:\n",
    "        return 'negative'\n",
    "    else:\n",
    "        return 'neutral'\n",
    "\n",
    "\n",
    "# Apply TextBlob sentiment analysis\n",
    "df['textblob_score'] = df['cleaned_review'].apply(get_sentiment)\n",
    "\n",
    "# Apply sentiment classification\n",
    "df['textblob_label'] = df['textblob_score'].apply(assign_textblob_label)\n",
    "\n",
    "\n",
    "# Display results\n",
    "df[['cleaned_review', 'textblob_score', 'textblob_label']].head()\n"
   ]
  },
  {
   "cell_type": "markdown",
   "id": "72081684",
   "metadata": {},
   "source": [
    "\n",
    "## Step 4: Comparing VADER and TextBlob Results\n",
    "\n",
    "Now that we have sentiment classifications from both models, we will compare their outputs.\n",
    "\n",
    "### **1. Do they agree on sentiment classification?**\n",
    "We will check how often the sentiment labels from VADER and TextBlob match.\n",
    "\n",
    "### **2. Distribution of sentiment scores**\n",
    "We will visualize the distribution of sentiment scores for both models to understand how they rate the reviews differently.\n"
   ]
  },
  {
   "cell_type": "code",
   "execution_count": 15,
   "id": "2e646443-f06d-46e8-b998-cec715135eed",
   "metadata": {
    "tags": []
   },
   "outputs": [
    {
     "data": {
      "text/html": [
       "<div>\n",
       "<style scoped>\n",
       "    .dataframe tbody tr th:only-of-type {\n",
       "        vertical-align: middle;\n",
       "    }\n",
       "\n",
       "    .dataframe tbody tr th {\n",
       "        vertical-align: top;\n",
       "    }\n",
       "\n",
       "    .dataframe thead th {\n",
       "        text-align: right;\n",
       "    }\n",
       "</style>\n",
       "<table border=\"1\" class=\"dataframe\">\n",
       "  <thead>\n",
       "    <tr style=\"text-align: right;\">\n",
       "      <th></th>\n",
       "      <th>time_submitted</th>\n",
       "      <th>review</th>\n",
       "      <th>rating</th>\n",
       "      <th>total_thumbsup</th>\n",
       "      <th>reply</th>\n",
       "      <th>review_length</th>\n",
       "      <th>cleaned_review</th>\n",
       "      <th>cleaned_review_length</th>\n",
       "      <th>vader_score</th>\n",
       "      <th>vader_label</th>\n",
       "      <th>textblob_score</th>\n",
       "      <th>textblob_label</th>\n",
       "      <th>agreement</th>\n",
       "    </tr>\n",
       "  </thead>\n",
       "  <tbody>\n",
       "    <tr>\n",
       "      <th>0</th>\n",
       "      <td>2022-01-01 00:19:09</td>\n",
       "      <td>Its good but sometimes it doesnt load the musi...</td>\n",
       "      <td>4</td>\n",
       "      <td>0</td>\n",
       "      <td>NaN</td>\n",
       "      <td>216</td>\n",
       "      <td>good sometimes doesnt load music play like sec...</td>\n",
       "      <td>115</td>\n",
       "      <td>0.7402</td>\n",
       "      <td>positive</td>\n",
       "      <td>0.500000</td>\n",
       "      <td>positive</td>\n",
       "      <td>True</td>\n",
       "    </tr>\n",
       "    <tr>\n",
       "      <th>1</th>\n",
       "      <td>2022-01-01 00:49:23</td>\n",
       "      <td>The app is good hard to navigate and won't jus...</td>\n",
       "      <td>2</td>\n",
       "      <td>1</td>\n",
       "      <td>NaN</td>\n",
       "      <td>272</td>\n",
       "      <td>app good hard navigate wont let play song clic...</td>\n",
       "      <td>142</td>\n",
       "      <td>-0.3834</td>\n",
       "      <td>negative</td>\n",
       "      <td>0.302778</td>\n",
       "      <td>positive</td>\n",
       "      <td>False</td>\n",
       "    </tr>\n",
       "    <tr>\n",
       "      <th>2</th>\n",
       "      <td>2022-01-01 01:02:29</td>\n",
       "      <td>This app would be good if not for it taking ov...</td>\n",
       "      <td>2</td>\n",
       "      <td>10</td>\n",
       "      <td>NaN</td>\n",
       "      <td>493</td>\n",
       "      <td>app would good taking device start comp there ...</td>\n",
       "      <td>296</td>\n",
       "      <td>-0.7854</td>\n",
       "      <td>negative</td>\n",
       "      <td>-0.117708</td>\n",
       "      <td>negative</td>\n",
       "      <td>True</td>\n",
       "    </tr>\n",
       "    <tr>\n",
       "      <th>3</th>\n",
       "      <td>2022-01-01 02:13:40</td>\n",
       "      <td>Use to be sooo good back when I had it, and wh...</td>\n",
       "      <td>1</td>\n",
       "      <td>0</td>\n",
       "      <td>NaN</td>\n",
       "      <td>263</td>\n",
       "      <td>use sooo good back downloaded free version cou...</td>\n",
       "      <td>168</td>\n",
       "      <td>0.8654</td>\n",
       "      <td>positive</td>\n",
       "      <td>0.400000</td>\n",
       "      <td>positive</td>\n",
       "      <td>True</td>\n",
       "    </tr>\n",
       "    <tr>\n",
       "      <th>4</th>\n",
       "      <td>2022-01-01 03:01:29</td>\n",
       "      <td>Even though it was communicated that lyrics fe...</td>\n",
       "      <td>1</td>\n",
       "      <td>6</td>\n",
       "      <td>NaN</td>\n",
       "      <td>279</td>\n",
       "      <td>even though communicated lyric feature availab...</td>\n",
       "      <td>179</td>\n",
       "      <td>0.5831</td>\n",
       "      <td>positive</td>\n",
       "      <td>0.162500</td>\n",
       "      <td>positive</td>\n",
       "      <td>True</td>\n",
       "    </tr>\n",
       "  </tbody>\n",
       "</table>\n",
       "</div>"
      ],
      "text/plain": [
       "       time_submitted                                             review  \\\n",
       "0 2022-01-01 00:19:09  Its good but sometimes it doesnt load the musi...   \n",
       "1 2022-01-01 00:49:23  The app is good hard to navigate and won't jus...   \n",
       "2 2022-01-01 01:02:29  This app would be good if not for it taking ov...   \n",
       "3 2022-01-01 02:13:40  Use to be sooo good back when I had it, and wh...   \n",
       "4 2022-01-01 03:01:29  Even though it was communicated that lyrics fe...   \n",
       "\n",
       "   rating  total_thumbsup reply  review_length  \\\n",
       "0       4               0   NaN            216   \n",
       "1       2               1   NaN            272   \n",
       "2       2              10   NaN            493   \n",
       "3       1               0   NaN            263   \n",
       "4       1               6   NaN            279   \n",
       "\n",
       "                                      cleaned_review  cleaned_review_length  \\\n",
       "0  good sometimes doesnt load music play like sec...                    115   \n",
       "1  app good hard navigate wont let play song clic...                    142   \n",
       "2  app would good taking device start comp there ...                    296   \n",
       "3  use sooo good back downloaded free version cou...                    168   \n",
       "4  even though communicated lyric feature availab...                    179   \n",
       "\n",
       "   vader_score vader_label  textblob_score textblob_label  agreement  \n",
       "0       0.7402    positive        0.500000       positive       True  \n",
       "1      -0.3834    negative        0.302778       positive      False  \n",
       "2      -0.7854    negative       -0.117708       negative       True  \n",
       "3       0.8654    positive        0.400000       positive       True  \n",
       "4       0.5831    positive        0.162500       positive       True  "
      ]
     },
     "execution_count": 15,
     "metadata": {},
     "output_type": "execute_result"
    }
   ],
   "source": [
    "# creating a boolean column for agreement\n",
    "\n",
    "# Check agreement between models\n",
    "df['agreement'] = df.apply(lambda row: row['vader_label'] == row['textblob_label'], axis=1)\n",
    "\n",
    "df.head()"
   ]
  },
  {
   "cell_type": "code",
   "execution_count": 16,
   "id": "3772d7f0-dc6c-4946-aeb4-28a368a538f8",
   "metadata": {
    "tags": []
   },
   "outputs": [
    {
     "name": "stdout",
     "output_type": "stream",
     "text": [
      "Agreement between VADER and TextBlob: 73.69%\n"
     ]
    }
   ],
   "source": [
    "# agreement rate over all the data\n",
    "\n",
    "agreement_rate = df['agreement'].mean() * 100\n",
    "print(f\"Agreement between VADER and TextBlob: {agreement_rate:.2f}%\")\n"
   ]
  },
  {
   "cell_type": "code",
   "execution_count": 17,
   "id": "9d38bb07",
   "metadata": {
    "tags": []
   },
   "outputs": [
    {
     "data": {
      "image/png": "[encoded data removed]",
      "text/plain": [
       "<Figure size 1200x500 with 2 Axes>"
      ]
     },
     "metadata": {},
     "output_type": "display_data"
    }
   ],
   "source": [
    "\n",
    "import matplotlib.pyplot as plt\n",
    "import seaborn as sns\n",
    "\n",
    "\n",
    "# Plot sentiment distributions\n",
    "plt.figure(figsize=(12, 5))\n",
    "\n",
    "# VADER Distribution\n",
    "plt.subplot(1, 2, 1)\n",
    "sns.histplot(df['vader_score'], bins=30, kde=True, color='blue')\n",
    "plt.title('VADER Sentiment Score Distribution')\n",
    "plt.xlabel('Sentiment Score')\n",
    "plt.ylabel('Frequency')\n",
    "\n",
    "# TextBlob Distribution\n",
    "plt.subplot(1, 2, 2)\n",
    "sns.histplot(df['textblob_score'], bins=30, kde=True, color='green')\n",
    "plt.title('TextBlob Sentiment Score Distribution')\n",
    "plt.xlabel('Sentiment Score')\n",
    "plt.ylabel('Frequency')\n",
    "\n",
    "plt.tight_layout()\n",
    "plt.show()\n"
   ]
  },
  {
   "cell_type": "markdown",
   "id": "dc63c985",
   "metadata": {},
   "source": [
    "\n",
    "## Conclusion\n",
    "\n",
    "- **VADER** and **TextBlob** generally provide similar sentiment classifications, but **they may disagree on certain cases**.\n",
    "- **VADER** is optimized for short text and incorporates intensity, making it useful for social media-style reviews.\n",
    "- **TextBlob** provides **subjectivity analysis**, which can help determine if a review is factual or opinion-based.\n",
    "- Further analysis can involve **deep learning models** (e.g., BERT-based models) for more **context-aware sentiment detection**\n",
    "\n"
   ]
  },
  {
   "cell_type": "code",
   "execution_count": null,
   "id": "41e749e7-2cd8-4574-abf5-20f3e635bced",
   "metadata": {},
   "outputs": [],
   "source": []
  }
 ],
 "metadata": {
  "kernelspec": {
   "display_name": "Python 3 (ipykernel)",
   "language": "python",
   "name": "python3"
  },
  "language_info": {
   "codemirror_mode": {
    "name": "ipython",
    "version": 3
   },
   "file_extension": ".py",
   "mimetype": "text/x-python",
   "name": "python",
   "nbconvert_exporter": "python",
   "pygments_lexer": "ipython3",
   "version": "3.11.5"
  }
 },
 "nbformat": 4,
 "nbformat_minor": 5
}
