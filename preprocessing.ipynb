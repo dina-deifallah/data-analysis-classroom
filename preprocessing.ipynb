{
 "cells": [
  {
   "cell_type": "markdown",
   "id": "9eb38fd6-49b6-43a5-a22c-55516e405ebc",
   "metadata": {},
   "source": [
    "# Text Preprocessing"
   ]
  },
  {
   "cell_type": "markdown",
   "id": "719081af-563b-4a0d-a3bd-aeb17a760818",
   "metadata": {},
   "source": [
    " - This tutorial demonstrates how to preprocess text data and perform exploratory data analysis (EDA) on a dataset of over 60,000 Spotify app reviews scraped from Google Play Store. Download the dataset [here](https://www.kaggle.com/datasets/mfaaris/spotify-app-reviews-2022)\n",
    "\n",
    " - Our goal is to clean the text data and analyze it to uncover key patterns and prepare it for advanced NLP tasks such as sentiment analysis or topic modeling"
   ]
  },
  {
   "cell_type": "markdown",
   "id": "e4d464e9-9020-475f-8fc7-57cbc074a816",
   "metadata": {},
   "source": [
    "## 0. Objectives:\n",
    "\n",
    "1. Import the dataset\n",
    "2. Exploratory Data Analysis (EDA) for text data\n",
    "3. Understand and apply basic text preprocessing techniques: cleaning, tokenization, removal of stop word and lemmatization"
   ]
  },
  {
   "cell_type": "markdown",
   "id": "f54e7485-31d6-426e-b135-fcb83f964d4a",
   "metadata": {},
   "source": [
    "## 1. Import Data"
   ]
  },
  {
   "cell_type": "code",
   "execution_count": 1,
   "id": "8fa551a1-4fc3-49b9-9904-914a1c87192d",
   "metadata": {
    "tags": []
   },
   "outputs": [],
   "source": [
    "import pandas as pd"
   ]
  },
  {
   "cell_type": "code",
   "execution_count": 2,
   "id": "544da0ac-81bc-46a8-8440-f7986266fcc8",
   "metadata": {
    "tags": []
   },
   "outputs": [
    {
     "data": {
      "text/html": [
       "<div>\n",
       "<style scoped>\n",
       "    .dataframe tbody tr th:only-of-type {\n",
       "        vertical-align: middle;\n",
       "    }\n",
       "\n",
       "    .dataframe tbody tr th {\n",
       "        vertical-align: top;\n",
       "    }\n",
       "\n",
       "    .dataframe thead th {\n",
       "        text-align: right;\n",
       "    }\n",
       "</style>\n",
       "<table border=\"1\" class=\"dataframe\">\n",
       "  <thead>\n",
       "    <tr style=\"text-align: right;\">\n",
       "      <th></th>\n",
       "      <th>Time_submitted</th>\n",
       "      <th>Review</th>\n",
       "      <th>Rating</th>\n",
       "      <th>Total_thumbsup</th>\n",
       "      <th>Reply</th>\n",
       "    </tr>\n",
       "  </thead>\n",
       "  <tbody>\n",
       "    <tr>\n",
       "      <th>0</th>\n",
       "      <td>2022-07-09 15:00:00</td>\n",
       "      <td>Great music service, the audio is high quality...</td>\n",
       "      <td>5</td>\n",
       "      <td>2</td>\n",
       "      <td>NaN</td>\n",
       "    </tr>\n",
       "    <tr>\n",
       "      <th>1</th>\n",
       "      <td>2022-07-09 14:21:22</td>\n",
       "      <td>Please ignore previous negative rating. This a...</td>\n",
       "      <td>5</td>\n",
       "      <td>1</td>\n",
       "      <td>NaN</td>\n",
       "    </tr>\n",
       "    <tr>\n",
       "      <th>2</th>\n",
       "      <td>2022-07-09 13:27:32</td>\n",
       "      <td>This pop-up \"Get the best Spotify experience o...</td>\n",
       "      <td>4</td>\n",
       "      <td>0</td>\n",
       "      <td>NaN</td>\n",
       "    </tr>\n",
       "    <tr>\n",
       "      <th>3</th>\n",
       "      <td>2022-07-09 13:26:45</td>\n",
       "      <td>Really buggy and terrible to use as of recently</td>\n",
       "      <td>1</td>\n",
       "      <td>1</td>\n",
       "      <td>NaN</td>\n",
       "    </tr>\n",
       "    <tr>\n",
       "      <th>4</th>\n",
       "      <td>2022-07-09 13:20:49</td>\n",
       "      <td>Dear Spotify why do I get songs that I didn't ...</td>\n",
       "      <td>1</td>\n",
       "      <td>1</td>\n",
       "      <td>NaN</td>\n",
       "    </tr>\n",
       "  </tbody>\n",
       "</table>\n",
       "</div>"
      ],
      "text/plain": [
       "        Time_submitted                                             Review  \\\n",
       "0  2022-07-09 15:00:00  Great music service, the audio is high quality...   \n",
       "1  2022-07-09 14:21:22  Please ignore previous negative rating. This a...   \n",
       "2  2022-07-09 13:27:32  This pop-up \"Get the best Spotify experience o...   \n",
       "3  2022-07-09 13:26:45    Really buggy and terrible to use as of recently   \n",
       "4  2022-07-09 13:20:49  Dear Spotify why do I get songs that I didn't ...   \n",
       "\n",
       "   Rating  Total_thumbsup Reply  \n",
       "0       5               2   NaN  \n",
       "1       5               1   NaN  \n",
       "2       4               0   NaN  \n",
       "3       1               1   NaN  \n",
       "4       1               1   NaN  "
      ]
     },
     "execution_count": 2,
     "metadata": {},
     "output_type": "execute_result"
    }
   ],
   "source": [
    "# import data to pandas dataframe\n",
    "\n",
    "raw_reviews = pd.read_csv(\"reviews.csv\")\n",
    "\n",
    "raw_reviews.head()"
   ]
  },
  {
   "cell_type": "markdown",
   "id": "1bbe258c-e6ca-4255-af18-91abbe36d439",
   "metadata": {},
   "source": [
    "## 2. EDA "
   ]
  },
  {
   "cell_type": "code",
   "execution_count": 3,
   "id": "fbad7291-1f3d-4ae0-8496-5953eee18510",
   "metadata": {
    "tags": []
   },
   "outputs": [
    {
     "name": "stdout",
     "output_type": "stream",
     "text": [
      "<class 'pandas.core.frame.DataFrame'>\n",
      "RangeIndex: 61594 entries, 0 to 61593\n",
      "Data columns (total 5 columns):\n",
      " #   Column          Non-Null Count  Dtype \n",
      "---  ------          --------------  ----- \n",
      " 0   Time_submitted  61594 non-null  object\n",
      " 1   Review          61594 non-null  object\n",
      " 2   Rating          61594 non-null  int64 \n",
      " 3   Total_thumbsup  61594 non-null  int64 \n",
      " 4   Reply           216 non-null    object\n",
      "dtypes: int64(2), object(3)\n",
      "memory usage: 2.3+ MB\n"
     ]
    }
   ],
   "source": [
    "# the info method gives you an overview of the data\n",
    "\n",
    "raw_reviews.info()"
   ]
  },
  {
   "cell_type": "code",
   "execution_count": 4,
   "id": "4c5f0aaa-43c5-4e24-b739-de38a9611f42",
   "metadata": {
    "tags": []
   },
   "outputs": [
    {
     "data": {
      "text/plain": [
       "Index(['Time_submitted', 'Review', 'Rating', 'Total_thumbsup', 'Reply'], dtype='object')"
      ]
     },
     "execution_count": 4,
     "metadata": {},
     "output_type": "execute_result"
    }
   ],
   "source": [
    "raw_reviews.columns"
   ]
  },
  {
   "cell_type": "code",
   "execution_count": 6,
   "id": "4114c60f-f416-4678-8926-6ac2142398cf",
   "metadata": {
    "tags": []
   },
   "outputs": [
    {
     "data": {
      "text/plain": [
       "Index(['time_submitted', 'review', 'rating', 'total_thumbsup', 'reply'], dtype='object')"
      ]
     },
     "execution_count": 6,
     "metadata": {},
     "output_type": "execute_result"
    }
   ],
   "source": [
    "# lower column names\n",
    "\n",
    "# str is called a string accessor\n",
    "\n",
    "raw_reviews.columns = raw_reviews.columns.str.lower()\n",
    "\n",
    "raw_reviews.columns"
   ]
  },
  {
   "cell_type": "code",
   "execution_count": 10,
   "id": "9a194796-cd44-420e-b329-39a8aa7c0d4c",
   "metadata": {
    "tags": []
   },
   "outputs": [
    {
     "data": {
      "text/plain": [
       "rating\n",
       "5    0.358720\n",
       "1    0.286603\n",
       "4    0.127318\n",
       "2    0.115563\n",
       "3    0.111797\n",
       "Name: proportion, dtype: float64"
      ]
     },
     "execution_count": 10,
     "metadata": {},
     "output_type": "execute_result"
    }
   ],
   "source": [
    "# checking the distribution of the reviews in terms of rating\n",
    "\n",
    "raw_reviews['rating'].value_counts(normalize=True).sort_values(ascending=False)"
   ]
  },
  {
   "cell_type": "code",
   "execution_count": 11,
   "id": "06fa60af-abcd-4ed7-a3d6-6fa5bb943a1c",
   "metadata": {
    "tags": []
   },
   "outputs": [
    {
     "data": {
      "text/plain": [
       "3.1559892197291943"
      ]
     },
     "execution_count": 11,
     "metadata": {},
     "output_type": "execute_result"
    }
   ],
   "source": [
    "# mean rating of spotify for this dataset\n",
    "\n",
    "raw_reviews['rating'].mean()"
   ]
  },
  {
   "cell_type": "code",
   "execution_count": 12,
   "id": "ffc4317a-7813-4c49-9d1a-f53221472e2b",
   "metadata": {
    "tags": []
   },
   "outputs": [
    {
     "name": "stdout",
     "output_type": "stream",
     "text": [
      "Average review length: 163.32 characters\n"
     ]
    }
   ],
   "source": [
    "# checking the average review length in characters\n",
    "\n",
    "raw_reviews['review_length'] = raw_reviews['review'].apply(len)  \n",
    "\n",
    "print(f\"Average review length: {raw_reviews['review_length'].mean():.2f} characters\")"
   ]
  },
  {
   "cell_type": "code",
   "execution_count": 13,
   "id": "c32d913f-6318-4753-aa1d-faf89dd6d265",
   "metadata": {
    "tags": []
   },
   "outputs": [
    {
     "data": {
      "text/plain": [
       "count    61594.000000\n",
       "mean       163.323457\n",
       "std        119.940997\n",
       "min         10.000000\n",
       "25%         72.000000\n",
       "50%        130.000000\n",
       "75%        221.000000\n",
       "max       3753.000000\n",
       "Name: review_length, dtype: float64"
      ]
     },
     "execution_count": 13,
     "metadata": {},
     "output_type": "execute_result"
    }
   ],
   "source": [
    "# we can also check the distribution of the reviews length\n",
    "\n",
    "raw_reviews['review_length'].describe()"
   ]
  },
  {
   "cell_type": "code",
   "execution_count": 15,
   "id": "ebb0bacd-efa4-459f-aead-d37015ccdb84",
   "metadata": {
    "tags": []
   },
   "outputs": [
    {
     "data": {
      "text/plain": [
       "array([\"I very rarely leave reviews and if I do, they're almost never negative but I feel compelled in this instance, as the Spotify app has got to be the worst app I have ever used. I'm on pay as you go with no Internet access unless I'm on Wi-Fi and all I use this app for is to listen to podcasts which I download in full before my work commute. It's obvious it simply has not been designed with any consideration for a user like myself. I would go as far as to state that it's terrible for podcasts in general, regardless of how you use your phone. To give you some examples: 1. When I'm at work, my phone will connect to the work Wi-Fi. There's an internal authorisation process to let devices use Internet when on the company network. What happens is that I can't play any podcasts if my phone's Wi-Fi is on - I press the play button, but nothing happens. I have two phones, one authorised to use the network and one not and this happens on both of them. I think what is taking place in the first instance is that our heavily filtered network will not let Spotify download ads and it completely throws it out of the loop. In the second instance, I think even though my phone is well aware it has no Internet access (despite being connected to Wi-Fi), Spotify ignores this fact and still tries to download ads before playing my podcasts. So every time I'm still within the huge range of my company's Wi-Fi, I need to disable my phone's Wi-Fi before I can play my podcasts for the commute home. After they start playing, I'm free to switch the Wi-Fi back on. But this isn't even the worst that this app does. 2. Quite frequently, right when I leave my company's Wi-Fi range (it always happens at almost the exact spot down to a few meters), the podcast that is being currently played will stop, losing its progress and the next one on the list will start playing. This is especially aggravating when I'm in the car and switching back to the podcast I was listening to and then finding the exact spot where I finished is impossible to do safely without stopping somewhere. But this still isn't the worst of it. 3. Recently the app started to randomly show all of my podcasts as not downloaded or actually deleting them (I'm still not sure what exactly happens as this only occurred 3 times so far, but all instances within the last month). The first time it happened, I've noticed as I walked out the door for work that my podcasts were gone. I had to redownload them all before leaving - I'm fortunate enough to be in a position where my bosses don't care what time I clock in but otherwise I'd probably by quite irritated. The next couple times it happened as I was trying to play my podcasts on my way home from work - but in those cases, when I got home, they annoyingly again started showing as downloaded and I could play them with no problems. Mind you, I have 40GB of free storage on my phone. And then there's the absolutely shockingly unusable and ugly interface (but I suppose it does fit the terrible Spotify logo). Manually removing a downloaded podcast from my playlist and downloads is an unintuitive multi-step process. I can't even change the order my podcasts will play in once they're on my playlist. I couldn't find a way to loop the playlist either, so if the last episode on your playlist is the first one you'll want to play, then you'll have to manually start the list from the top once it finishes. It can be supper annoying if this happens when you're on a motorway. It's like whoever created this app hasn't actually used it. It just blows my mind that a company as big as Spotify can't make an app that works, is usable and doesn't look like it was designed in Excel (actually, you can do much prettier things in Excel than that).\"],\n",
       "      dtype=object)"
      ]
     },
     "execution_count": 15,
     "metadata": {},
     "output_type": "execute_result"
    }
   ],
   "source": [
    "# longest review!!!\n",
    "\n",
    "# loc[row/index_label, column_name(s)]\n",
    "\n",
    "raw_reviews.loc[raw_reviews['review_length']==3753, 'review'].values"
   ]
  },
  {
   "cell_type": "code",
   "execution_count": null,
   "id": "f11360a6-f5a9-4617-b474-1ccecb840c91",
   "metadata": {
    "tags": []
   },
   "outputs": [],
   "source": [
    "# examine the span of time for the reviews\n",
    "\n",
    "raw_reviews['time_submitted'] = pd.to_datetime(raw_reviews['time_submitted'])\n",
    "\n",
    "raw_reviews.info()"
   ]
  },
  {
   "cell_type": "code",
   "execution_count": null,
   "id": "7111c109-87e5-4da0-a3f2-870d7ed878a7",
   "metadata": {
    "tags": []
   },
   "outputs": [],
   "source": [
    "raw_reviews.sort_values('time_submitted', inplace=True, ignore_index=True)\n",
    "\n",
    "raw_reviews.head()"
   ]
  },
  {
   "cell_type": "code",
   "execution_count": null,
   "id": "ed85c664-d479-452f-89c9-2ce33341f437",
   "metadata": {
    "tags": []
   },
   "outputs": [],
   "source": [
    "raw_reviews.tail()"
   ]
  },
  {
   "cell_type": "markdown",
   "id": "c43d80d8-b474-427c-8ee0-9001ec0d948a",
   "metadata": {},
   "source": [
    "## 3. Text Preprocessing"
   ]
  },
  {
   "cell_type": "markdown",
   "id": "79cfc52f-77f8-4916-892e-0ca4c8221248",
   "metadata": {},
   "source": [
    "Text preprocessing transforms raw text into clean, structured data suitable for analysis. \n",
    "This includes steps like lowercasing, removing punctuation and stopwords, tokenizing the text, and lemmatizing words\n",
    "\n",
    "#### Steps in Preprocessing\n",
    "1. **Lowercasing:** Treat words like \"Music\" and \"music\" as the same\n",
    "2. **Removing Punctuation/Numbers:** Remove symbols and digits that don't add meaning to the analysis\n",
    "3. **Tokenization:** Split text into individual words (tokens)\n",
    "4. **Stopword Removal:** Remove common words like \"the\" and \"is\" that don't carry significant meaning\n",
    "5. **Lemmatization:** Normalize words to their base form (e.g., \"children\" → \"child\")\n"
   ]
  },
  {
   "cell_type": "code",
   "execution_count": null,
   "id": "35b839b2-0d9f-4d2f-a8d8-1650c119267c",
   "metadata": {
    "tags": []
   },
   "outputs": [],
   "source": [
    "# install NLTK package for NLP\n",
    "\n",
    "!pip install nltk"
   ]
  },
  {
   "cell_type": "code",
   "execution_count": null,
   "id": "3a327e88-fbf9-4fc5-b3ff-6051edde49aa",
   "metadata": {
    "tags": []
   },
   "outputs": [],
   "source": [
    "import re\n",
    "import nltk\n",
    "from nltk.tokenize import word_tokenize\n",
    "from nltk.corpus import stopwords\n",
    "from nltk.stem import WordNetLemmatizer\n",
    "\n",
    "# Punkt is a multi-language, pre-trained, unsupervised sentence tokenizer in the NLTK library\n",
    "nltk.download('punkt')\n",
    "\n",
    "# List of stopwords in many spoken languages\n",
    "nltk.download('stopwords')\n",
    "\n",
    "# WordNet is a large, lexical database of the English language. Here it will handle the lemmatization\n",
    "nltk.download('wordnet')"
   ]
  },
  {
   "cell_type": "code",
   "execution_count": null,
   "id": "e3269b3e-46e4-4ea3-a32a-5b1832504b0e",
   "metadata": {
    "tags": []
   },
   "outputs": [],
   "source": [
    "# let's examine a single review\n",
    "\n",
    "sample = raw_reviews['review'][600]\n",
    "\n",
    "sample"
   ]
  },
  {
   "cell_type": "code",
   "execution_count": null,
   "id": "24751cd7-f8e3-4a81-8732-c34954708947",
   "metadata": {
    "tags": []
   },
   "outputs": [],
   "source": [
    "# lowercasing\n",
    "\n",
    "sample = sample.lower()\n",
    "\n",
    "sample"
   ]
  },
  {
   "cell_type": "markdown",
   "id": "8fa6e5d4-3933-41de-b79f-aeb67699df92",
   "metadata": {},
   "source": [
    " - Re is short for Regular Expressions\n",
    " - It is a Python module that allows us to find patterns in text and perform certain actions\n",
    " - You can find the documentation [here](https://docs.python.org/3/library/re.html)\n",
    " - For writing text search patterns, a.k.a. regex, take a look at this detailed [cheatsheet](https://media.datacamp.com/legacy/image/upload/v1665049611/Marketing/Blog/Regular_Expressions_Cheat_Sheet.pdf)\n"
   ]
  },
  {
   "cell_type": "code",
   "execution_count": null,
   "id": "8d5d4113-0150-4497-98fb-93d8668544d1",
   "metadata": {
    "tags": []
   },
   "outputs": [],
   "source": [
    "# removing the punctuation \n",
    "\n",
    "# ^ inside []: Negates the set, meaning \"anything NOT matching this set\"\n",
    "# \\w: Matches any word character (letters, digits, or underscores)\n",
    "# \\s: Matches any whitespace character (spaces, tabs, etc.)\n",
    "# so, [^\\w\\s] matches any character that is not a word character or whitespace\n",
    "\n",
    "sample = re.sub(r'[^\\w\\s]', '', sample)\n",
    "\n",
    "sample"
   ]
  },
  {
   "cell_type": "code",
   "execution_count": null,
   "id": "0382ff24-a385-4a7c-9455-be1527a053b6",
   "metadata": {
    "tags": []
   },
   "outputs": [],
   "source": [
    "# remove digits\n",
    "\n",
    "# \\d: Matches any digit (0-9)\n",
    "# +: Matches one or more of the preceding token\n",
    "\n",
    "sample = re.sub(r'\\d+', '', sample)\n",
    "\n",
    "sample"
   ]
  },
  {
   "cell_type": "code",
   "execution_count": null,
   "id": "9329bf57-48b0-441e-9233-6d195bff1aa2",
   "metadata": {
    "tags": []
   },
   "outputs": [],
   "source": [
    "# Tokenize the text\n",
    "\n",
    "sample_tokens = word_tokenize(sample)\n",
    "\n",
    "print(sample_tokens)"
   ]
  },
  {
   "cell_type": "code",
   "execution_count": null,
   "id": "c54b334a-4862-49ab-9d5f-a46a90c44c25",
   "metadata": {
    "tags": []
   },
   "outputs": [],
   "source": [
    "# remove stopwords\n",
    "\n",
    "stop_words = set(stopwords.words('english'))\n",
    "\n",
    "sample_tokens = [word for word in sample_tokens if word not in stop_words]\n",
    "\n",
    "print(sample_tokens)"
   ]
  },
  {
   "cell_type": "code",
   "execution_count": null,
   "id": "1d0dcce2-07c6-4adb-bcbc-258a41fbe7a0",
   "metadata": {
    "tags": []
   },
   "outputs": [],
   "source": [
    "# lemmatize the resulting tokens\n",
    "\n",
    "lemmatizer = WordNetLemmatizer()\n",
    "\n",
    "sample_tokens = [lemmatizer.lemmatize(word) for word in sample_tokens]\n",
    "\n",
    "print(sample_tokens)"
   ]
  },
  {
   "cell_type": "code",
   "execution_count": null,
   "id": "14e0fe41-451d-4329-9c4a-91c6b7a4c891",
   "metadata": {
    "tags": []
   },
   "outputs": [],
   "source": [
    "# regroup the tokens as a single text\n",
    "\n",
    "sample_cleaned = ' '.join(sample_tokens)\n",
    "\n",
    "sample_cleaned"
   ]
  },
  {
   "cell_type": "code",
   "execution_count": null,
   "id": "d1a8cb94-72d6-49af-bb05-eeefe2358fb8",
   "metadata": {
    "tags": []
   },
   "outputs": [],
   "source": [
    "# now we can build a cleaning function that has all these steps and apply it to the entire dataset\n",
    "\n",
    "\n",
    "def preprocess_text(text):\n",
    "    # Lowercase the text\n",
    "    text = text.lower()\n",
    "    # Remove punctuation and numbers\n",
    "    text = re.sub(r'[^\\w\\s]', '', text)\n",
    "    text = re.sub(r'\\d+', '', text)\n",
    "    # Tokenize the text\n",
    "    tokens = word_tokenize(text)\n",
    "    # Remove stopwords\n",
    "    stop_words = set(stopwords.words('english'))\n",
    "    tokens = [word for word in tokens if word not in stop_words]\n",
    "    # Lemmatize the tokens\n",
    "    lemmatizer = WordNetLemmatizer()\n",
    "    tokens = [lemmatizer.lemmatize(word) for word in tokens]\n",
    "    return ' '.join(tokens)\n",
    "\n",
    "# Apply preprocessing\n",
    "raw_reviews['cleaned_review'] = raw_reviews['review'].apply(preprocess_text)\n",
    "raw_reviews.head()\n"
   ]
  },
  {
   "cell_type": "code",
   "execution_count": null,
   "id": "487e8e0e-72ff-4f25-88ad-b9d64f79456c",
   "metadata": {
    "tags": []
   },
   "outputs": [],
   "source": [
    "# adding a new character count after preprocessing\n",
    "\n",
    "raw_reviews['cleaned_review_length'] = raw_reviews['cleaned_review'].apply(len)\n",
    "\n",
    "print(f\"Average cleaned review length: {raw_reviews['cleaned_review_length'].mean():.2f} characters\")"
   ]
  },
  {
   "cell_type": "code",
   "execution_count": null,
   "id": "45874852-f89b-46b2-892a-30f3e19047db",
   "metadata": {},
   "outputs": [],
   "source": []
  }
 ],
 "metadata": {
  "kernelspec": {
   "display_name": "Python 3 (ipykernel)",
   "language": "python",
   "name": "python3"
  },
  "language_info": {
   "codemirror_mode": {
    "name": "ipython",
    "version": 3
   },
   "file_extension": ".py",
   "mimetype": "text/x-python",
   "name": "python",
   "nbconvert_exporter": "python",
   "pygments_lexer": "ipython3",
   "version": "3.11.5"
  }
 },
 "nbformat": 4,
 "nbformat_minor": 5
}
